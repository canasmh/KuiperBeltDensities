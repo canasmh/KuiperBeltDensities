{
 "cells": [
  {
   "cell_type": "markdown",
   "metadata": {},
   "source": [
    "# Figure 7"
   ]
  },
  {
   "cell_type": "code",
   "execution_count": 15,
   "metadata": {},
   "outputs": [],
   "source": [
    "import matplotlib.pyplot as plt\n",
    "import numpy as np\n",
    "import pandas as pd"
   ]
  },
  {
   "cell_type": "code",
   "execution_count": 16,
   "metadata": {},
   "outputs": [],
   "source": [
    "si_data = pd.read_csv(\"run15_ivar16/SinkParticles.csv\")"
   ]
  },
  {
   "cell_type": "code",
   "execution_count": 20,
   "metadata": {},
   "outputs": [
    {
     "data": {
      "text/plain": [
       "array([  3,   6,  11,  14,  18,  21,  22,  26,  28,  37,  40,  44,  48,\n",
       "        53,  60,  62,  69,  84,  85,  88,  89,  90,  91,  94,  95,  99,\n",
       "       104, 123, 125, 127, 128, 129, 130, 139, 145, 146, 150, 156, 160,\n",
       "       170, 175, 176, 177, 180, 181, 182, 183, 185, 186, 191, 194, 204,\n",
       "       205, 206, 216, 217, 221, 222, 223, 224, 228, 229, 231, 233, 242,\n",
       "       246, 247, 249, 251, 254, 257, 258, 261, 262, 264, 266, 268, 278,\n",
       "       279, 281, 283, 285, 286, 290, 293, 296, 298, 302, 303, 304, 309,\n",
       "       310, 313, 315, 317, 318, 319, 321, 322, 325, 329, 330, 332, 334,\n",
       "       335, 336, 337, 342, 343, 344, 346, 351, 356, 357, 359, 363, 365,\n",
       "       373, 379, 383, 389, 392, 394, 396, 399, 401, 402, 404, 405, 406,\n",
       "       407, 408])"
      ]
     },
     "execution_count": 20,
     "metadata": {},
     "output_type": "execute_result"
    }
   ],
   "source": [
    "active_sinks = np.where(si_data[\"Status\"] != 0)[0]"
   ]
  },
  {
   "cell_type": "code",
   "execution_count": 23,
   "metadata": {},
   "outputs": [
    {
     "data": {
      "image/png": "[encoded data removed]",
      "text/plain": [
       "<Figure size 576x432 with 1 Axes>"
      ]
     },
     "metadata": {
      "needs_background": "light"
     },
     "output_type": "display_data"
    }
   ],
   "source": [
    "fig = plt.figure(figsize=(8, 6))\n",
    "\n",
    "ax = fig.add_subplot(111)\n",
    "ax.scatter(si_data[\"Mass\"][active_sinks], si_data[\"NumIce\"][active_sinks] / (si_data[\"NumIce\"][active_sinks] + si_data[\"NumSil\"][active_sinks]))\n",
    "ax.set_ylim(0.6, 1)\n",
    "ax.set_xscale('log')"
   ]
  },
  {
   "cell_type": "code",
   "execution_count": 25,
   "metadata": {},
   "outputs": [
    {
     "data": {
      "text/plain": [
       "132"
      ]
     },
     "execution_count": 25,
     "metadata": {},
     "output_type": "execute_result"
    }
   ],
   "source": [
    "len(si_data[\"Mass\"][active_sinks])"
   ]
  },
  {
   "cell_type": "code",
   "execution_count": null,
   "metadata": {},
   "outputs": [],
   "source": []
  }
 ],
 "metadata": {
  "kernelspec": {
   "display_name": "Python 3",
   "language": "python",
   "name": "python3"
  },
  "language_info": {
   "codemirror_mode": {
    "name": "ipython",
    "version": 3
   },
   "file_extension": ".py",
   "mimetype": "text/x-python",
   "name": "python",
   "nbconvert_exporter": "python",
   "pygments_lexer": "ipython3",
   "version": "3.8.5"
  }
 },
 "nbformat": 4,
 "nbformat_minor": 4
}
