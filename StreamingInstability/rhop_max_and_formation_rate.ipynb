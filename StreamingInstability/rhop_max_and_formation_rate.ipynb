{
 "cells": [
  {
   "cell_type": "code",
   "execution_count": null,
   "metadata": {},
   "outputs": [],
   "source": [
    "import matplotlib.pyplot as plt\n",
    "import numpy as np\n",
    "import pandas as pd"
   ]
  },
  {
   "cell_type": "code",
   "execution_count": null,
   "metadata": {},
   "outputs": [],
   "source": [
    "run=15\n",
    "ivar=16\n",
    "rundir=f\"run{run}_ivar{ivar}/\""
   ]
  },
  {
   "cell_type": "code",
   "execution_count": null,
   "metadata": {},
   "outputs": [],
   "source": [
    "ts = np.load(rundir + \"ts{}.npz\".format(ivar))"
   ]
  },
  {
   "cell_type": "code",
   "execution_count": null,
   "metadata": {},
   "outputs": [],
   "source": [
    "filename = rundir + \"SinkParticles.csv\"\n",
    "fieldnames = [\"Identifier\",\"TimeFormed\", \"Density\", \"Diameter\", \"Mass\", \"NumIce\", \"NumSil\", \"NumTot\"]\n",
    "\n",
    "sink_data = pd.read_csv(filename)\n",
    "\n",
    "# sink_data = sink_data[sink_data[\"Status\"] == 1]\n",
    "\n",
    "sink_id       = sink_data[fieldnames[0]] \n",
    "time_formed   = sink_data[fieldnames[1]]  # in radians\n",
    "sink_density  = sink_data[fieldnames[2]]  # in cgs\n",
    "sink_diameter = sink_data[fieldnames[3]]  # in km\n",
    "sink_mass     = sink_data[fieldnames[4]]  # in cgs\n",
    "sink_frac_ice = sink_data[fieldnames[5]] / sink_data[fieldnames[-1]] * 100"
   ]
  },
  {
   "cell_type": "code",
   "execution_count": null,
   "metadata": {},
   "outputs": [],
   "source": [
    "fig = plt.figure(figsize=(15,6))\n",
    "\n",
    "large=18\n",
    "medium=16\n",
    "small=14\n",
    "xsmall=12\n",
    "\n",
    "ax = fig.add_subplot(121)\n",
    "ax.scatter(np.array(time_formed) / (2 * np.pi), 1 / (np.gradient(np.array(time_formed) / (2 * np.pi))) )\n",
    "ax.set_xlabel(\"T (Orbits)\", fontsize=medium)\n",
    "ax.set_xlim(np.min(ts['t']), np.max(ts['t']) / (2 * np.pi))\n",
    "ax.set_ylabel(\"$\\\\Delta T^{-1}$ (per orbit)\", fontsize=medium)\n",
    "ax.set_yscale('log')\n",
    "ax.tick_params(axis='x', which='major', labelsize=xsmall, length=5, width=0.5)\n",
    "ax.tick_params(axis='y', which='major', direction='in', labelsize=xsmall, length=7, right=True)\n",
    "ax.tick_params(axis='y', which='minor', direction='in', labelsize=xsmall, length=3, right=True)\n",
    "\n",
    "ax2 = fig.add_subplot(122)\n",
    "ax2.plot(ts['t'] / (2 * np.pi), ts['rhopinterp'], c='k')\n",
    "ax2.set_yscale('log')\n",
    "ax2.set_xlabel(\"T (Orbits)\", fontsize=medium)\n",
    "ax2.set_ylabel(\"max$\\\\left(\\\\rho_{p}\\\\right)/\\\\rho_{g}$\", fontsize=medium)\n",
    "ax2.set_xlim(0, np.max(ts['t'] / (2*np.pi)))\n",
    "ax2.set_ylim(5, 1.5e2)\n",
    "ax2.hlines(90, ax.get_xlim()[0], ax.get_xlim()[1], label=\"Roche Density\")\n",
    "ax2.tick_params(axis='x', which='major', labelsize=xsmall, length=5, width=0.5)\n",
    "ax2.tick_params(axis='y', which='major', direction='in', labelsize=xsmall, length=7, right=True)\n",
    "ax2.tick_params(axis='y', which='minor', direction='in', labelsize=xsmall, length=3, right=True)\n",
    "ax2.legend(fontsize=small)"
   ]
  },
  {
   "cell_type": "code",
   "execution_count": null,
   "metadata": {},
   "outputs": [],
   "source": []
  }
 ],
 "metadata": {
  "kernelspec": {
   "display_name": "Python 3",
   "language": "python",
   "name": "python3"
  },
  "language_info": {
   "codemirror_mode": {
    "name": "ipython",
    "version": 3
   },
   "file_extension": ".py",
   "mimetype": "text/x-python",
   "name": "python",
   "nbconvert_exporter": "python",
   "pygments_lexer": "ipython3",
   "version": "3.8.5"
  }
 },
 "nbformat": 4,
 "nbformat_minor": 4
}
